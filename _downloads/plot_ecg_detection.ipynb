{
  "cells": [
    {
      "cell_type": "code",
      "execution_count": null,
      "metadata": {
        "collapsed": false
      },
      "outputs": [],
      "source": [
        "%matplotlib inline"
      ]
    },
    {
      "cell_type": "markdown",
      "metadata": {},
      "source": [
        "\n\nComparing Picard and FastICA for the task of detecting ECG artifacts in MEG\n===========================================================================\n\nPicard and FastICA are fitted to MEG data, from several initializations.\nThe scores related to the detection of ECG artifacts are displayed for each\nrun. Picard is faster, and less dependent on the initialization.\n\n"
      ]
    },
    {
      "cell_type": "code",
      "execution_count": null,
      "metadata": {
        "collapsed": false
      },
      "outputs": [],
      "source": [
        "# Authors: Pierre Ablin <pierreablin@gmail.com>\n#          Alexandre Gramfort <alexandre.gramfort@telecom-paristech.fr>\n#\n# License: BSD (3-clause)\nfrom time import time\n\nimport mne\nfrom mne.preprocessing import ICA\nfrom mne.preprocessing import create_ecg_epochs\nfrom mne.datasets import sample"
      ]
    },
    {
      "cell_type": "markdown",
      "metadata": {},
      "source": [
        "Setup paths and prepare raw data.\n\n"
      ]
    },
    {
      "cell_type": "code",
      "execution_count": null,
      "metadata": {
        "collapsed": false
      },
      "outputs": [],
      "source": [
        "mne.set_log_level(verbose='CRITICAL')\ndata_path = sample.data_path()\nraw_fname = data_path + '/MEG/sample/sample_audvis_filt-0-40_raw.fif'\n\nraw = mne.io.read_raw_fif(raw_fname, preload=True)\nraw.filter(1, None, fir_design='firwin')  # already lowpassed @ 40\nraw.annotations = mne.Annotations([1], [10], 'BAD')\n# raw.plot(block=True)\n\n# For the sake of example we annotate first 10 seconds of the recording as\n# 'BAD'. This part of data is excluded from the ICA decomposition by default.\n# To turn this behavior off, pass ``reject_by_annotation=False`` to\n# :meth:`mne.preprocessing.ICA.fit`.\nraw.annotations = mne.Annotations([0], [10], 'BAD')\n\npicks = mne.pick_types(raw.info, meg=True, eeg=False, eog=False,\n                       stim=False, exclude='bads')"
      ]
    },
    {
      "cell_type": "markdown",
      "metadata": {},
      "source": [
        "Define a function that fits ICA to the data, identifies bad components\nrelated to ECG, and plots the resulting scores.\n\n"
      ]
    },
    {
      "cell_type": "code",
      "execution_count": null,
      "metadata": {
        "collapsed": false
      },
      "outputs": [],
      "source": [
        "def fit_ica_and_plot_scores(method, random_state):\n    ica = ICA(n_components=0.95, method=method, random_state=random_state,\n              fit_params={'tol': 1e-4}, max_iter=400)\n    t0 = time()\n    ica.fit(raw.copy(), picks=picks, decim=3,\n            reject=dict(mag=4e-12, grad=4000e-13), verbose='warning')\n    fit_time = time() - t0\n    title = ('Method : %s, init %d. Took %.2g sec.'\n             % (method, random_state + 1, fit_time))\n    ecg_epochs = create_ecg_epochs(raw, tmin=-.5, tmax=.5, picks=picks)\n\n    ecg_inds, scores = ica.find_bads_ecg(ecg_epochs, method='ctps')\n    ica.plot_scores(scores, exclude=ecg_inds, title=title)"
      ]
    },
    {
      "cell_type": "markdown",
      "metadata": {},
      "source": [
        "Fit ICA using FastICA, with a few iterations, for different initializations\n\n"
      ]
    },
    {
      "cell_type": "code",
      "execution_count": null,
      "metadata": {
        "collapsed": false
      },
      "outputs": [],
      "source": [
        "n_inits = 3\nmethod = 'fastica'\n\nfor random_state in range(n_inits):\n    fit_ica_and_plot_scores(method, random_state)"
      ]
    },
    {
      "cell_type": "markdown",
      "metadata": {},
      "source": [
        "Do the same thing with picard\n\n"
      ]
    },
    {
      "cell_type": "code",
      "execution_count": null,
      "metadata": {
        "collapsed": false
      },
      "outputs": [],
      "source": [
        "method = 'picard'\n\nfor random_state in range(n_inits):\n    fit_ica_and_plot_scores(method, random_state)"
      ]
    },
    {
      "cell_type": "markdown",
      "metadata": {},
      "source": [
        "Picard gives more consistent results, and obtains them quickly.\n\n"
      ]
    }
  ],
  "metadata": {
    "kernelspec": {
      "display_name": "Python 3",
      "language": "python",
      "name": "python3"
    },
    "language_info": {
      "codemirror_mode": {
        "name": "ipython",
        "version": 3
      },
      "file_extension": ".py",
      "mimetype": "text/x-python",
      "name": "python",
      "nbconvert_exporter": "python",
      "pygments_lexer": "ipython3",
      "version": "3.6.3"
    }
  },
  "nbformat": 4,
  "nbformat_minor": 0
}