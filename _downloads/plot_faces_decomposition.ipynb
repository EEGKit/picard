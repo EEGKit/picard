{
  "cells": [
    {
      "cell_type": "code",
      "execution_count": null,
      "metadata": {
        "collapsed": false
      },
      "outputs": [],
      "source": [
        "%matplotlib inline"
      ]
    },
    {
      "cell_type": "markdown",
      "metadata": {},
      "source": [
        "\n# Blind source separation using preconditioned ICA on faces\n\n\nThis example compares FastICA and Picard-O:\n\nPierre Ablin, Jean-Fran\u00e7ois Cardoso, Alexandre Gramfort\n\"Faster ICA under orthogonal constraint\"\nArXiv Preprint, Nov 2017\nhttps://arxiv.org/abs/1711.10873\n\n\n"
      ]
    },
    {
      "cell_type": "code",
      "execution_count": null,
      "metadata": {
        "collapsed": false
      },
      "outputs": [],
      "source": [
        "# Author: Pierre Ablin <pierre.ablin@inria.fr>\n#         Alexandre Gramfort <alexandre.gramfort@inria.fr>\n# License: BSD 3 clause\n\n\nimport numpy as np\nfrom time import time\nimport matplotlib.pyplot as plt\nfrom sklearn.datasets import fetch_olivetti_faces\nfrom sklearn.decomposition import fastica\n\nfrom picard import picard\n\n\nprint(__doc__)\n\nn_row, n_col = 2, 3\nn_components = n_row * n_col\nimage_shape = (64, 64)\nrng = np.random.RandomState(0)"
      ]
    },
    {
      "cell_type": "markdown",
      "metadata": {},
      "source": [
        "Load faces data\n\n"
      ]
    },
    {
      "cell_type": "code",
      "execution_count": null,
      "metadata": {
        "collapsed": false
      },
      "outputs": [],
      "source": [
        "dataset = fetch_olivetti_faces(shuffle=True, random_state=rng)\nfaces = dataset.data\n\nn_samples, n_features = faces.shape\n\n# global centering\nfaces_centered = faces - faces.mean(axis=0)\n\n# local centering\nfaces_centered -= faces_centered.mean(axis=1).reshape(n_samples, -1)\n\nprint(\"Dataset consists of %d faces\" % n_samples)\n\n\ndef gradient_norm(Y):\n    psiY = np.tanh(Y)\n    psidY_mean = 1 - np.mean(psiY ** 2, axis=1)\n    g = np.dot(psiY, Y.T) / Y.shape[1]\n    signs = np.sign(psidY_mean - np.diag(g))\n    g *= signs[:, None]\n    g = (g - g.T) / 2\n    return np.linalg.norm(g)\n\n\ndef plot_gallery(title, images, n_col=n_col, n_row=n_row):\n    plt.figure(figsize=(2. * n_col, 2.26 * n_row))\n    plt.suptitle(title, size=16)\n    for i, comp in enumerate(images):\n        plt.subplot(n_row, n_col, i + 1)\n        vmax = max(comp.max(), -comp.min())\n        plt.imshow(comp.reshape(image_shape), cmap=plt.cm.gray,\n                   interpolation='nearest',\n                   vmin=-vmax, vmax=vmax)\n        plt.xticks(())\n        plt.yticks(())\n    plt.subplots_adjust(0.01, 0.05, 0.99, 0.93, 0.04, 0.)"
      ]
    },
    {
      "cell_type": "markdown",
      "metadata": {},
      "source": [
        "Run Picard-O and FastICA, and show the results\n\n"
      ]
    },
    {
      "cell_type": "code",
      "execution_count": null,
      "metadata": {
        "collapsed": false
      },
      "outputs": [],
      "source": [
        "algorithms = [('Picard-O', picard),\n              ('FastICA', fastica)]\nfor name, algorithm in algorithms:\n    print(\"Running %s\" % name)\n    if name == 'FastICA':\n        X = faces_centered.T\n    else:\n        X = faces_centered\n    t0 = time()\n    K, W, Y = algorithm(X, n_components=n_components)\n    train_time = time() - t0\n    if name == 'FastICA':\n        Y = Y.T * np.sqrt(n_samples)  # Normalize so that Cov = Id\n    Y *= np.sign(np.mean(Y ** 3, axis=1))[:, None]  # Fix the signs\n    plot_gallery('%s - Time %.2fs - Gradient norm %.2e' %\n                 (name, train_time, gradient_norm(Y)),\n                 Y[:n_components])\nplt.show()"
      ]
    }
  ],
  "metadata": {
    "kernelspec": {
      "display_name": "Python 3",
      "language": "python",
      "name": "python3"
    },
    "language_info": {
      "codemirror_mode": {
        "name": "ipython",
        "version": 3
      },
      "file_extension": ".py",
      "mimetype": "text/x-python",
      "name": "python",
      "nbconvert_exporter": "python",
      "pygments_lexer": "ipython3",
      "version": "3.6.3"
    }
  },
  "nbformat": 4,
  "nbformat_minor": 0
}