{
  "cells": [
    {
      "cell_type": "code",
      "execution_count": null,
      "metadata": {
        "collapsed": false
      },
      "outputs": [],
      "source": [
        "%matplotlib inline"
      ]
    },
    {
      "cell_type": "markdown",
      "metadata": {},
      "source": [
        "\n# Using a custom density with Picard\n\n\nThis example shows how to use custom densities using Picard\n\n\n"
      ]
    },
    {
      "cell_type": "code",
      "execution_count": null,
      "metadata": {
        "collapsed": false
      },
      "outputs": [],
      "source": [
        "# Author: Pierre Ablin <pierre.ablin@inria.fr>\n#         Alexandre Gramfort <alexandre.gramfort@inria.fr>\n# License: BSD 3 clause\n\nimport numpy as np\nimport matplotlib.pyplot as plt\nfrom picard import picard, permute\n\nprint(__doc__)"
      ]
    },
    {
      "cell_type": "markdown",
      "metadata": {},
      "source": [
        "Build a custom density where the score function is x + tanh(x)\n\n"
      ]
    },
    {
      "cell_type": "code",
      "execution_count": null,
      "metadata": {
        "collapsed": false
      },
      "outputs": [],
      "source": [
        "class CustomDensity(object):\n    def log_lik(self, Y):\n        return Y ** 2 / 2 + np.log(np.cosh(Y))\n\n    def score_and_der(self, Y):\n        tanhY = np.tanh(Y)\n        return Y + tanhY, 2 - tanhY ** 2\n\n\ncustom_density = CustomDensity()"
      ]
    },
    {
      "cell_type": "markdown",
      "metadata": {},
      "source": [
        "Plot the corresponding functions\n\n"
      ]
    },
    {
      "cell_type": "code",
      "execution_count": null,
      "metadata": {
        "collapsed": false
      },
      "outputs": [],
      "source": [
        "x = np.linspace(-2, 2, 100)\nlog_likelihood = custom_density.log_lik(x)\npsi, psi_der = custom_density.score_and_der(x)\n\nnames = ['log-likelihood', 'score', 'score derivative']\n\nplt.figure()\nfor values, name in zip([log_likelihood, psi, psi_der], names):\n    plt.plot(x, values, label=name)\nplt.legend()\nplt.title(\"Custom density\")\nplt.show()"
      ]
    },
    {
      "cell_type": "markdown",
      "metadata": {},
      "source": [
        "Run Picard on toy dataset using this density\n\n"
      ]
    },
    {
      "cell_type": "code",
      "execution_count": null,
      "metadata": {
        "collapsed": false
      },
      "outputs": [],
      "source": [
        "rng = np.random.RandomState(0)\nN, T = 5, 1000\nS = rng.laplace(size=(N, T))\nA = rng.randn(N, N)\nX = np.dot(A, S)\nK, W, Y = picard(X, fun=custom_density)\nplt.figure()\nplt.imshow(permute(W.dot(K).dot(A)), interpolation='nearest')\nplt.title('Difference between the mix and the estimated matrix')\nplt.show()"
      ]
    }
  ],
  "metadata": {
    "kernelspec": {
      "display_name": "Python 3",
      "language": "python",
      "name": "python3"
    },
    "language_info": {
      "codemirror_mode": {
        "name": "ipython",
        "version": 3
      },
      "file_extension": ".py",
      "mimetype": "text/x-python",
      "name": "python",
      "nbconvert_exporter": "python",
      "pygments_lexer": "ipython3",
      "version": "3.6.3"
    }
  },
  "nbformat": 4,
  "nbformat_minor": 0
}