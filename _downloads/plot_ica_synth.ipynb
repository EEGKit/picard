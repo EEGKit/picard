{
  "cells": [
    {
      "cell_type": "code",
      "execution_count": null,
      "metadata": {
        "collapsed": false
      },
      "outputs": [],
      "source": [
        "%matplotlib inline"
      ]
    },
    {
      "cell_type": "markdown",
      "metadata": {},
      "source": [
        "\n# Blind source separation using Picard and Picard-O\n\n\nThe example runs the Picard algorithm proposed in:\n\nPierre Ablin, Jean-Francois Cardoso, Alexandre Gramfort\n\"Faster independent component analysis by preconditioning with Hessian approximations\"\nArXiv Preprint, June 2017\nhttps://arxiv.org/abs/1706.08171\n\nand Picard-O algorithm proposed in:\n\nPierre Ablin, Jean-Fran\u00e7ois Cardoso, Alexandre Gramfort\n\"Faster ICA under orthogonal constraint\"\nArXiv Preprint, Nov 2017\nhttps://arxiv.org/abs/1711.10873\n\n\n"
      ]
    },
    {
      "cell_type": "code",
      "execution_count": null,
      "metadata": {
        "collapsed": false
      },
      "outputs": [],
      "source": [
        "# Author: Pierre Ablin <pierre.ablin@inria.fr>\n#         Alexandre Gramfort <alexandre.gramfort@inria.fr>\n# License: BSD 3 clause\n\nimport numpy as np\nimport matplotlib.pyplot as plt\n\nfrom picard import picard\n\nprint(__doc__)"
      ]
    },
    {
      "cell_type": "markdown",
      "metadata": {},
      "source": [
        "Generate sample data\n\n"
      ]
    },
    {
      "cell_type": "code",
      "execution_count": null,
      "metadata": {
        "collapsed": false
      },
      "outputs": [],
      "source": [
        "np.random.seed(0)\nn_samples = 2000\ntime = np.linspace(0, 8, n_samples)\n\ns1 = np.sin(2 * time) * np.sin(40 * time)\ns2 = np.sin(3 * time) ** 5\ns3 = np.random.laplace(size=s1.shape)\n\nS = np.c_[s1, s2, s3].T\n\nS /= S.std(axis=1)[:, np.newaxis]  # Standardize data\n# Mix data\nA = np.array([[1, 1, 1], [0.5, 2, 1.0], [1.5, 1.0, 2.0]])  # Mixing matrix\nX = np.dot(A, S)  # Generate observations\n\n# Compute ICA\n_, _, Y_picard = picard(X, ortho=False)\n_, _, Y_picardo = picard(X, ortho=True)"
      ]
    },
    {
      "cell_type": "markdown",
      "metadata": {},
      "source": [
        "Plot results\n\n"
      ]
    },
    {
      "cell_type": "code",
      "execution_count": null,
      "metadata": {
        "collapsed": false
      },
      "outputs": [],
      "source": [
        "models = [X, S, Y_picard, Y_picardo]\nnames = ['Observations (mixed signal)',\n         'True Sources',\n         'ICA recovered signals with Picard',\n         'ICA recovered signals with Picard-O']\ncolors = ['red', 'steelblue', 'orange']\n\nfor ii, (model, name) in enumerate(zip(models, names), 1):\n    fig, axes = plt.subplots(3, 1, figsize=(6, 4), sharex=True, sharey=True)\n    plt.suptitle(name)\n    for ax, sig, color in zip(axes, model, colors):\n        ax.plot(sig, color=color)\n\nplt.show()"
      ]
    }
  ],
  "metadata": {
    "kernelspec": {
      "display_name": "Python 3",
      "language": "python",
      "name": "python3"
    },
    "language_info": {
      "codemirror_mode": {
        "name": "ipython",
        "version": 3
      },
      "file_extension": ".py",
      "mimetype": "text/x-python",
      "name": "python",
      "nbconvert_exporter": "python",
      "pygments_lexer": "ipython3",
      "version": "3.6.3"
    }
  },
  "nbformat": 4,
  "nbformat_minor": 0
}