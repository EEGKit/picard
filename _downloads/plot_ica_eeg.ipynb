{
  "cells": [
    {
      "cell_type": "code",
      "execution_count": null,
      "metadata": {
        "collapsed": false
      },
      "outputs": [],
      "source": [
        "%matplotlib inline"
      ]
    },
    {
      "cell_type": "markdown",
      "metadata": {},
      "source": [
        "\n# Blind source separation using preconditioned ICA on EEG\n\n\nThe example runs the Picard-O algorithm proposed in:\n\nPierre Ablin, Jean-Fran\u00e7ois Cardoso, Alexandre Gramfort\n\"Faster ICA under orthogonal constraint\"\nArXiv Preprint, Nov 2017\nhttps://arxiv.org/abs/1711.10873\n\n\n"
      ]
    },
    {
      "cell_type": "code",
      "execution_count": null,
      "metadata": {
        "collapsed": false
      },
      "outputs": [],
      "source": [
        "# Author: Pierre Ablin <pierre.ablin@inria.fr>\n#         Alexandre Gramfort <alexandre.gramfort@inria.fr>\n# License: BSD 3 clause\n\nimport numpy as np\nimport matplotlib.pyplot as plt\nimport mne\nfrom mne.datasets import sample\nfrom scipy.stats import kurtosis\n\nfrom picard import picard\n\nprint(__doc__)"
      ]
    },
    {
      "cell_type": "markdown",
      "metadata": {},
      "source": [
        "Generate sample EEG data\n\n"
      ]
    },
    {
      "cell_type": "code",
      "execution_count": null,
      "metadata": {
        "collapsed": false
      },
      "outputs": [],
      "source": [
        "data_path = sample.data_path()\nraw_fname = data_path + '/MEG/sample/sample_audvis_filt-0-40_raw.fif'\n\nraw = mne.io.read_raw_fif(raw_fname, preload=True)\nraw.filter(1, 40, n_jobs=1)  # 1Hz high pass is often helpful for fitting ICA\n\npicks = mne.pick_types(raw.info, meg=False, eeg=True, eog=False,\n                       stim=False, exclude='bads')\n\nrandom_state = 0\ndata = raw[picks, :][0]\ndata = data[:, ::2]  # decimate a bit"
      ]
    },
    {
      "cell_type": "markdown",
      "metadata": {},
      "source": [
        "Run ICA on data, after reducing the dimension\n\n"
      ]
    },
    {
      "cell_type": "code",
      "execution_count": null,
      "metadata": {
        "collapsed": false
      },
      "outputs": [],
      "source": [
        "K, W, Y = picard(data, n_components=30, ortho=True)"
      ]
    },
    {
      "cell_type": "markdown",
      "metadata": {},
      "source": [
        "Plot results\n\n"
      ]
    },
    {
      "cell_type": "code",
      "execution_count": null,
      "metadata": {
        "collapsed": false
      },
      "outputs": [],
      "source": [
        "n_plots = 10\nT_plots = 1000\norder = np.argsort(kurtosis(Y[:, :T_plots], axis=1))[::-1]\nmodels = [data[:n_plots], Y[order[:n_plots][::-1]]]\nnames = ['Observations (raw EEG)',\n         'ICA recovered sources']\n\nfig, axes = plt.subplots(2, 1, figsize=(7, 7))\nfor ii, (model, name, ax) in enumerate(zip(models, names, axes)):\n    ax.set_title(name)\n    ax.get_xaxis().set_visible(False)\n    ax.get_yaxis().set_visible(False)\n    offsets = np.max(model, axis=1) - np.min(model, axis=1)\n    offsets = np.cumsum(offsets)\n    ax.plot((model[:, :T_plots] + offsets[:, np.newaxis]).T, 'k')\n\nfig.tight_layout()\nplt.show()"
      ]
    }
  ],
  "metadata": {
    "kernelspec": {
      "display_name": "Python 3",
      "language": "python",
      "name": "python3"
    },
    "language_info": {
      "codemirror_mode": {
        "name": "ipython",
        "version": 3
      },
      "file_extension": ".py",
      "mimetype": "text/x-python",
      "name": "python",
      "nbconvert_exporter": "python",
      "pygments_lexer": "ipython3",
      "version": "3.6.3"
    }
  },
  "nbformat": 4,
  "nbformat_minor": 0
}