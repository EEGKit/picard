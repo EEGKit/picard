{
  "cells": [
    {
      "cell_type": "code",
      "execution_count": null,
      "metadata": {
        "collapsed": false
      },
      "outputs": [],
      "source": [
        "%matplotlib inline"
      ]
    },
    {
      "cell_type": "markdown",
      "metadata": {},
      "source": [
        "\n# Comparison of Picard-O and FastICA on faces data\n\n\nThis example compares FastICA and Picard-O:\n\nPierre Ablin, Jean-Fran\u00e7ois Cardoso, Alexandre Gramfort\n\"Faster ICA under orthogonal constraint\"\nICASSP, 2018\nhttps://arxiv.org/abs/1711.10873\n\n\nOn the figure, the number above each bar corresponds to the final gradient\nnorm.\n"
      ]
    },
    {
      "cell_type": "code",
      "execution_count": null,
      "metadata": {
        "collapsed": false
      },
      "outputs": [],
      "source": [
        "# Author: Pierre Ablin <pierre.ablin@inria.fr>\n#         Alexandre Gramfort <alexandre.gramfort@inria.fr>\n# License: BSD 3 clause\n\n\nimport numpy as np\nfrom time import time\nimport matplotlib.pyplot as plt\nfrom sklearn.datasets import fetch_olivetti_faces\nfrom sklearn.decomposition import fastica\n\nfrom picard import picard\n\n\nprint(__doc__)\n\nimage_shape = (64, 64)\nrng = np.random.RandomState(0)\n\n\ndef gradient_norm(Y):\n    psiY = np.tanh(Y)\n    psidY_mean = 1 - np.mean(psiY ** 2, axis=1)\n    g = np.dot(psiY, Y.T) / Y.shape[1]\n    signs = np.sign(psidY_mean - np.diag(g))\n    g *= signs[:, None]\n    g = (g - g.T) / 2\n    return np.linalg.norm(g)"
      ]
    },
    {
      "cell_type": "markdown",
      "metadata": {},
      "source": [
        "Load faces data\n\n"
      ]
    },
    {
      "cell_type": "code",
      "execution_count": null,
      "metadata": {
        "collapsed": false
      },
      "outputs": [],
      "source": [
        "dataset = fetch_olivetti_faces(shuffle=True, random_state=rng)\nfaces = dataset.data\n\nn_samples, n_features = faces.shape\n\n# global centering\nfaces_centered = faces - faces.mean(axis=0)\n\n# local centering\nfaces_centered -= faces_centered.mean(axis=1).reshape(n_samples, -1)\n\nprint(\"Dataset consists of %d faces\" % n_samples)"
      ]
    },
    {
      "cell_type": "markdown",
      "metadata": {},
      "source": [
        "Run Picard-O and FastICA for different number of sources, and store the\nelapsed time.\n\n"
      ]
    },
    {
      "cell_type": "code",
      "execution_count": null,
      "metadata": {
        "collapsed": false
      },
      "outputs": [],
      "source": [
        "dimensions = [5, 10, 40, 60]\n\nalgorithms = [picard, fastica]\nnames = ['PicardO', 'FastICA']\ncolors = ['b', 'orange']\n\nrunning_times = dict(FastICA=[], PicardO=[])\ngradients = dict(FastICA=[], PicardO=[])\nfor n_components in dimensions:\n    for name, algorithm in zip(names, algorithms):\n\n        if name == 'FastICA':\n            kwargs = dict(X=faces_centered.T, n_components=n_components,\n                          random_state=rng, max_iter=500, tol=1e-10)\n        else:\n            kwargs = dict(X=faces_centered, n_components=n_components,\n                          max_iter=500, tol=1e-5, random_state=rng)\n        t0 = time()\n        K, W, Y = algorithm(**kwargs)\n        running_times[name].append(time() - t0)\n        gradients[name].append(gradient_norm(Y))"
      ]
    },
    {
      "cell_type": "markdown",
      "metadata": {},
      "source": [
        "Plot the results\n\n"
      ]
    },
    {
      "cell_type": "code",
      "execution_count": null,
      "metadata": {
        "collapsed": false
      },
      "outputs": [],
      "source": [
        "def autolabel(rects, gradient_list):\n    \"\"\"\n    Attach a text label above each bar displaying its height\n    \"\"\"\n    for rect, gradient_norm in zip(rects, gradient_list):\n        height = rect.get_height()\n        g_string = '%.1e' % gradient_norm\n        g_string = g_string[:5] + g_string[6:]\n        ax.text(rect.get_x() + rect.get_width() / 2., height,\n                'G=%.1e' % gradient_norm, fontsize=8,\n                ha='center', va='bottom')\n\n\nfig, ax = plt.subplots()\nind = np.arange(len(dimensions))\nwidth = 0.8\nfor i, (name, color) in enumerate(zip(names, colors)):\n    rect = ax.bar(2 * ind - 0.05 + i * (width + 0.1), running_times[name],\n                  width=width, color=color, label=name)\n    autolabel(rect, gradients[name])\nax.set_xticks(2 * ind + width / 2)\nax.set_xticklabels((str(n_components) for n_components in dimensions))\nplt.legend()\nplt.xlabel('Number of sources')\nplt.ylabel('Time (sec.)')\nplt.show()"
      ]
    }
  ],
  "metadata": {
    "kernelspec": {
      "display_name": "Python 3",
      "language": "python",
      "name": "python3"
    },
    "language_info": {
      "codemirror_mode": {
        "name": "ipython",
        "version": 3
      },
      "file_extension": ".py",
      "mimetype": "text/x-python",
      "name": "python",
      "nbconvert_exporter": "python",
      "pygments_lexer": "ipython3",
      "version": "3.8.1"
    }
  },
  "nbformat": 4,
  "nbformat_minor": 0
}