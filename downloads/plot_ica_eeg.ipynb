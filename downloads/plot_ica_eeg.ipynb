{
  "nbformat_minor": 0, 
  "nbformat": 4, 
  "cells": [
    {
      "execution_count": null, 
      "cell_type": "code", 
      "source": [
        "%matplotlib inline"
      ], 
      "outputs": [], 
      "metadata": {
        "collapsed": false
      }
    }, 
    {
      "source": [
        "\n# Blind source separation using preconditioned ICA on EEG\n\n\n\n"
      ], 
      "cell_type": "markdown", 
      "metadata": {}
    }, 
    {
      "execution_count": null, 
      "cell_type": "code", 
      "source": [
        "import numpy as np\nimport matplotlib.pyplot as plt\nimport mne\nfrom mne.datasets import sample\nfrom sklearn.decomposition import PCA\n\nfrom picard import picard\n\nprint(__doc__)"
      ], 
      "outputs": [], 
      "metadata": {
        "collapsed": false
      }
    }, 
    {
      "source": [
        "Generate sample EEG data\n\n"
      ], 
      "cell_type": "markdown", 
      "metadata": {}
    }, 
    {
      "execution_count": null, 
      "cell_type": "code", 
      "source": [
        "data_path = sample.data_path()\nraw_fname = data_path + '/MEG/sample/sample_audvis_filt-0-40_raw.fif'\n\nraw = mne.io.read_raw_fif(raw_fname, preload=True)\nraw.filter(1, 40, n_jobs=1)  # 1Hz high pass is often helpful for fitting ICA\n\npicks = mne.pick_types(raw.info, meg=False, eeg=True, eog=False,\n                       stim=False, exclude='bads')\n\nrandom_state = 0\ndata = raw[picks, :][0]\ndata = data[:, ::2]  # decimate a bit\n\n# Center\ndata -= np.mean(data, axis=1, keepdims=True)\n\n# Apply PCA for dimension reduction and whitenning.\n\nn_components = 30\npca = PCA(n_components=n_components, whiten=True, svd_solver='full')\npca.fit(data)\n\nX = pca.components_ * np.sqrt(data.shape[1])\n\n# Run ICA on X\n\nY, W = picard(X)"
      ], 
      "outputs": [], 
      "metadata": {
        "collapsed": false
      }
    }, 
    {
      "source": [
        "Plot results\n\n"
      ], 
      "cell_type": "markdown", 
      "metadata": {}
    }, 
    {
      "execution_count": null, 
      "cell_type": "code", 
      "source": [
        "n_plots = 10\nmodels = [data[:n_plots], Y[:n_plots]]\nnames = ['Observations (raw EEG)',\n         'ICA recovered sources']\nfig, axes = plt.subplots(2, 1, figsize=(7, 7))\nfor ii, (model, name, ax) in enumerate(zip(models, names, axes)):\n    ax.set_title(name)\n    ax.get_xaxis().set_visible(False)\n    ax.get_yaxis().set_visible(False)\n    offsets = np.max(model, axis=1) - np.min(model, axis=1)\n    offsets = np.cumsum(offsets)\n    ax.plot((model[:, :1000] + offsets[:, np.newaxis]).T, 'k')\n\nfig.tight_layout()\nplt.show()"
      ], 
      "outputs": [], 
      "metadata": {
        "collapsed": false
      }
    }
  ], 
  "metadata": {
    "kernelspec": {
      "display_name": "Python 2", 
      "name": "python2", 
      "language": "python"
    }, 
    "language_info": {
      "mimetype": "text/x-python", 
      "nbconvert_exporter": "python", 
      "name": "python", 
      "file_extension": ".py", 
      "version": "2.7.12", 
      "pygments_lexer": "ipython2", 
      "codemirror_mode": {
        "version": 2, 
        "name": "ipython"
      }
    }
  }
}